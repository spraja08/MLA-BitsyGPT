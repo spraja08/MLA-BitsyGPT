{
 "cells": [
  {
   "cell_type": "code",
   "execution_count": 1,
   "metadata": {},
   "outputs": [],
   "source": [
    "import torch\n",
    "import torch.nn as nn\n",
    "import torch.nn.functional as F"
   ]
  },
  {
   "cell_type": "code",
   "execution_count": 2,
   "metadata": {},
   "outputs": [
    {
     "data": {
      "text/plain": [
       "1765483"
      ]
     },
     "execution_count": 2,
     "metadata": {},
     "output_type": "execute_result"
    }
   ],
   "source": [
    "with open(\"./data/byron.txt\", \"r\", encoding='utf-8') as f:\n",
    "    text = f.read()\n",
    "len(text)"
   ]
  },
  {
   "cell_type": "code",
   "execution_count": 3,
   "metadata": {},
   "outputs": [],
   "source": [
    "vocab = sorted(list(set(text)))\n",
    "vocab_size = len(vocab)"
   ]
  },
  {
   "cell_type": "code",
   "execution_count": 4,
   "metadata": {},
   "outputs": [
    {
     "data": {
      "text/plain": [
       "'hi there !'"
      ]
     },
     "execution_count": 4,
     "metadata": {},
     "output_type": "execute_result"
    }
   ],
   "source": [
    "stoi = {ch:i for i,ch in enumerate(vocab)}\n",
    "itos = {i:ch for i,ch in enumerate(vocab)}\n",
    "encode = lambda s: [stoi[ch] for ch in s]\n",
    "decode = lambda l: \"\".join([itos[i] for i in l])\n",
    "encode('hi there !')\n",
    "decode([19, 20, 1, 31, 19, 16, 29, 16, 1, 2])"
   ]
  },
  {
   "cell_type": "code",
   "execution_count": 5,
   "metadata": {},
   "outputs": [
    {
     "data": {
      "text/plain": [
       "True"
      ]
     },
     "execution_count": 5,
     "metadata": {},
     "output_type": "execute_result"
    }
   ],
   "source": [
    "data = torch.tensor(encode(text), dtype=torch.long)\n",
    "n = (int)(len(data) * 0.9)\n",
    "data_train = data[:n]\n",
    "data_val = data[n:]\n",
    "len(data) == len(data_train) + len(data_val)"
   ]
  },
  {
   "cell_type": "code",
   "execution_count": 6,
   "metadata": {},
   "outputs": [],
   "source": [
    "#block_size = 8\n",
    "#batch_size = 4\n",
    "#max_iterations = 3000\n",
    "#eval_interval = 300\n",
    "#eval_iterations = 200\n",
    "#learning_rate = 1e-2\n",
    "#device = 'cuda' if torch.cuda.is_available() else 'cpu'\n",
    "#n_embed = 32\n",
    "#head_size = 32\n",
    "#num_heads = 4\n",
    "#n_layers = 4\n",
    "#dropout = 0.2\n",
    "\n",
    "device = 'cuda' if torch.cuda.is_available() else 'cpu'\n",
    "block_size = 256\n",
    "batch_size = 64\n",
    "max_iterations = 8000\n",
    "eval_iterations = 200\n",
    "eval_interval = 500\n",
    "learning_rate = 3e-4\n",
    "n_embed = 384\n",
    "num_heads = 6\n",
    "n_layers = 6\n",
    "dropout = 0.2"
   ]
  },
  {
   "cell_type": "code",
   "execution_count": 7,
   "metadata": {},
   "outputs": [
    {
     "data": {
      "text/plain": [
       "'cuda'"
      ]
     },
     "execution_count": 7,
     "metadata": {},
     "output_type": "execute_result"
    }
   ],
   "source": [
    "device"
   ]
  },
  {
   "cell_type": "code",
   "execution_count": 8,
   "metadata": {},
   "outputs": [],
   "source": [
    "def get_batch(split):\n",
    "    data = data_train if split == 'train' else data_val\n",
    "    ix = torch.randint(len(data) - block_size, [batch_size,])\n",
    "    xb = torch.stack([data[i:i+block_size] for i in ix])\n",
    "    yb = torch.stack([data[i+1:i+block_size+1] for i in ix])\n",
    "    x, y = xb.to(device), yb.to(device)\n",
    "    return x,y\n",
    "    "
   ]
  },
  {
   "cell_type": "code",
   "execution_count": 9,
   "metadata": {},
   "outputs": [],
   "source": [
    "x, y = get_batch('train')"
   ]
  },
  {
   "cell_type": "code",
   "execution_count": 10,
   "metadata": {},
   "outputs": [
    {
     "name": "stdout",
     "output_type": "stream",
     "text": [
      "tensor([[ 1, 24, 16,  ..., 16,  1, 36],\n",
      "        [13, 32, 31,  ..., 24, 12, 25],\n",
      "        [30,  1, 31,  ...,  4, 15,  7],\n",
      "        ...,\n",
      "        [32, 15,  1,  ..., 19, 12, 15],\n",
      "        [25, 14, 26,  ..., 32, 23,  1],\n",
      "        [29,  1, 34,  ..., 23, 30,  6]], device='cuda:0')\n",
      "tensor([[24, 16,  1,  ...,  1, 36, 26],\n",
      "        [32, 31,  1,  ..., 12, 25, 25],\n",
      "        [ 1, 31, 26,  ..., 15,  7, 32],\n",
      "        ...,\n",
      "        [15,  1, 26,  ..., 12, 15, 26],\n",
      "        [14, 26, 32,  ..., 23,  1, 12],\n",
      "        [ 1, 34, 19,  ..., 30,  6,  0]], device='cuda:0')\n"
     ]
    }
   ],
   "source": [
    "print(x)\n",
    "print(y)"
   ]
  },
  {
   "cell_type": "code",
   "execution_count": 11,
   "metadata": {},
   "outputs": [],
   "source": [
    "class SingleHeadAttention(nn.Module):\n",
    "    def __init__(self, head_size, latent_head_size):\n",
    "        super().__init__()\n",
    "        self.key_latent = nn.Linear(n_embed, latent_head_size, bias=False)\n",
    "        self.key = nn.Linear(latent_head_size, head_size, bias=False)\n",
    "        \n",
    "        self.value_latent = nn.Linear(n_embed, latent_head_size, bias=False)\n",
    "        self.value = nn.Linear(latent_head_size, head_size, bias=False)\n",
    "\n",
    "        self.query = nn.Linear(n_embed, head_size, bias=False)\n",
    "        self.register_buffer('tril', torch.tril(torch.ones(block_size, block_size)))\n",
    "        self.dropout = nn.Dropout(dropout)\n",
    "        \n",
    "    def forward(self, x): #BTE\n",
    "        B,T,E = x.shape\n",
    "\n",
    "        k_latent = self.key_latent(x) #BTE @ EL -> BTL\n",
    "        v_latent = self.value_latent(x) #BTE @ EL -> BTL\n",
    "\n",
    "        k = self.key(k_latent) #BTL @ LH -> BTH\n",
    "        v = self.value(v_latent) #BTL @ LH -> BTH\n",
    "\n",
    "        q = self.query(x) #BTH\n",
    "            \n",
    "        wei = k @ q.transpose(-2, -1) * E ** -0.5 #BTH @ BHT -> BTT\n",
    "        wei = wei.masked_fill(self.tril[:T, :T] == 0, float('-inf'))\n",
    "        wei = wei.softmax(dim=-1)\n",
    "        wei = self.dropout(wei)\n",
    "            \n",
    "        out = wei @ v # BTT @ BTH -> BTH\n",
    "        return out    "
   ]
  },
  {
   "cell_type": "code",
   "execution_count": 12,
   "metadata": {},
   "outputs": [],
   "source": [
    "class MultiheadLatentAttention(nn.Module):\n",
    "    def __init__(self, num_heads):\n",
    "        super().__init__()\n",
    "        dim_head = n_embed // num_heads\n",
    "        dim_latent_head = dim_head // 2\n",
    "        self.multiheads  = nn.ModuleList([SingleHeadAttention(dim_head, dim_latent_head) \n",
    "                                          for _ in range(num_heads)])\n",
    "        self.proj = nn.Linear(n_embed, n_embed)\n",
    "        self.dropout = nn.Dropout(dropout)\n",
    "        \n",
    "    def forward(self, x):\n",
    "        out = torch.cat([h(x) for h in self.multiheads], dim=-1)  \n",
    "        out = self.dropout(self.proj(out))\n",
    "        return out"
   ]
  },
  {
   "cell_type": "code",
   "execution_count": 13,
   "metadata": {},
   "outputs": [],
   "source": [
    "class Feedforward(nn.Module):\n",
    "    def __init__(self):\n",
    "        super().__init__()\n",
    "        self.ffwd = nn.Sequential( \n",
    "            nn.Linear(n_embed, 4 * n_embed),\n",
    "            nn.ReLU(),\n",
    "            nn.Linear(4 * n_embed, n_embed),\n",
    "            nn.Dropout(dropout))\n",
    "        \n",
    "    def forward(self, x):\n",
    "        out = self.ffwd(x)\n",
    "        return out"
   ]
  },
  {
   "cell_type": "code",
   "execution_count": 14,
   "metadata": {},
   "outputs": [],
   "source": [
    "class Block(nn.Module):\n",
    "    def __init__(self, num_heads):\n",
    "        super().__init__()\n",
    "        self.multiheads = MultiheadLatentAttention(num_heads)\n",
    "        self.ffwd = Feedforward()\n",
    "        self.ln1 = nn.LayerNorm(n_embed)\n",
    "        self.ln2 = nn.LayerNorm(n_embed)\n",
    "        \n",
    "    def forward(self, x):\n",
    "        x = x + self.multiheads(self.ln1(x))\n",
    "        x = x + self.ffwd(self.ln2(x))\n",
    "        return x"
   ]
  },
  {
   "cell_type": "code",
   "execution_count": 15,
   "metadata": {},
   "outputs": [],
   "source": [
    "class MLA_Bitsy(nn.Module):\n",
    "    def __init__(self):\n",
    "        super().__init__()\n",
    "        self.tok_embedding_table = nn.Embedding(vocab_size, n_embed)\n",
    "        self.pos_embedding_table = nn.Embedding(block_size, n_embed)\n",
    "        self.layers = nn.Sequential(*[Block(num_heads) for _ in range(n_layers)])\n",
    "        self.ln = nn.LayerNorm(n_embed)\n",
    "        self.lm_head = nn.Linear(n_embed, vocab_size)\n",
    "        \n",
    "    def forward(self, idx, targets=None):\n",
    "        B,T = idx.shape\n",
    "        tok_embed = self.tok_embedding_table(idx) #BTE\n",
    "        pos_embed = self.pos_embedding_table(torch.arange(T, device=device))\n",
    "        x = tok_embed + pos_embed\n",
    "        x = self.layers(x)\n",
    "        x = self.ln(x)\n",
    "        logits = self.lm_head(x) #BTE @ EV -> BTV\n",
    "        \n",
    "        if targets == None:\n",
    "            loss = None\n",
    "        else:\n",
    "            B,T,C = logits.shape\n",
    "            logits = logits.view(B*T, C)\n",
    "            targets = targets.view(B*T)\n",
    "            loss = F.cross_entropy(logits, targets)\n",
    "        return logits, loss\n",
    "    \n",
    "    @torch.no_grad()\n",
    "    def estiamte_loss(self):\n",
    "        out = {}\n",
    "        self.eval()\n",
    "        for split in ['train', 'val']:\n",
    "            losses = torch.zeros(eval_iterations)\n",
    "            for k in range(eval_iterations):\n",
    "                x, y = get_batch(split)\n",
    "                logits, loss = self(x, y)\n",
    "                losses[k] = loss.item()\n",
    "            out[split] = losses.mean()\n",
    "        self.train()\n",
    "        return out        \n",
    "    \n",
    "    @torch.no_grad()\n",
    "    def generate(self, idx, max_tokens=300):\n",
    "        for _ in range(max_tokens):\n",
    "            idx_cond = idx[:, -block_size:]\n",
    "            logits, losss = self(idx_cond)\n",
    "            logits = logits[:, -1, :]\n",
    "            probs = F.softmax(logits, dim=-1)\n",
    "            idx_next = torch.multinomial(probs, num_samples=1)\n",
    "            idx = torch.cat([idx, idx_next], dim=-1)\n",
    "        return idx\n",
    "    \n",
    "    def get_num_params(self):\n",
    "        return sum(p.numel() for p in self.parameters() if p.requires_grad)\n",
    "\n",
    "    def persistModel(self):\n",
    "        path = 'model/mla-bitsy'\n",
    "        torch.save(self.state_dict(), path)\n",
    "        return path\n",
    "    \n",
    "    def loadModel(self):\n",
    "        path = 'model/mla-bitsy'\n",
    "        self.load_state_dict(torch.load(path, map_location='cuda'))"
   ]
  },
  {
   "cell_type": "code",
   "execution_count": 16,
   "metadata": {},
   "outputs": [
    {
     "name": "stdout",
     "output_type": "stream",
     "text": [
      "iter: 0, train_loss: 4.0069, val_loss: 4.0085\n",
      "iter: 500, train_loss: 2.0705, val_loss: 2.0744\n",
      "iter: 1000, train_loss: 1.7731, val_loss: 1.7741\n",
      "iter: 1500, train_loss: 1.6358, val_loss: 1.6460\n",
      "iter: 2000, train_loss: 1.5517, val_loss: 1.5681\n",
      "iter: 2500, train_loss: 1.4903, val_loss: 1.5255\n",
      "iter: 3000, train_loss: 1.4437, val_loss: 1.4868\n",
      "iter: 3500, train_loss: 1.4058, val_loss: 1.4592\n",
      "iter: 4000, train_loss: 1.3749, val_loss: 1.4437\n",
      "iter: 4500, train_loss: 1.3485, val_loss: 1.4256\n",
      "iter: 5000, train_loss: 1.3233, val_loss: 1.4186\n",
      "iter: 5500, train_loss: 1.3012, val_loss: 1.4075\n",
      "iter: 6000, train_loss: 1.2818, val_loss: 1.4006\n",
      "iter: 6500, train_loss: 1.2628, val_loss: 1.3933\n",
      "iter: 7000, train_loss: 1.2456, val_loss: 1.3933\n",
      "iter: 7500, train_loss: 1.2258, val_loss: 1.3911\n",
      "iter: 7999, train_loss: 1.2258, val_loss: 1.3911\n"
     ]
    },
    {
     "data": {
      "text/plain": [
       "'model/mla-bitsy'"
      ]
     },
     "execution_count": 16,
     "metadata": {},
     "output_type": "execute_result"
    }
   ],
   "source": [
    "torch.manual_seed(1337)\n",
    "m = MLA_Bitsy()\n",
    "model = m.to(device)\n",
    "optimizer = torch.optim.AdamW(model.parameters(), lr=learning_rate)\n",
    "for k in range(max_iterations):\n",
    "    if k % eval_interval == 0:\n",
    "        out = model.estiamte_loss()\n",
    "        print(f\"iter: {k}, train_loss: {out['train']:.4f}, val_loss: {out['val']:.4f}\")\n",
    "    x, y = get_batch('train')\n",
    "    logits, loss = model(x, y)\n",
    "    optimizer.zero_grad(set_to_none=True)\n",
    "    loss.backward()\n",
    "    optimizer.step()\n",
    "print(f\"iter: {k}, train_loss: {out['train']:.4f}, val_loss: {out['val']:.4f}\")\n",
    "\n",
    "model.persistModel()"
   ]
  },
  {
   "cell_type": "code",
   "execution_count": 17,
   "metadata": {},
   "outputs": [
    {
     "name": "stdout",
     "output_type": "stream",
     "text": [
      "\n",
      "enough we not where the seventh none,\n",
      "from the dust caps, tincto? and all shall not wear\n",
      "oh! question, more unpleased to thee\n",
      "glad in the dops of men! but no flame\n",
      "fortune flame\n",
      "in sadnesshow dares beside that distant pale;\n",
      "and here heart, was votice on its thine toil,\n",
      "and gathler flag the claspion-locks the home\n",
      "thee were those tide of tears and crief -\n",
      "a glancing sisteam, glory, glare, or grave,\n",
      "and therefore we lave alone further cry;\n",
      "it is on thine falcowers are beauty\n",
      "that holds in most pleasant men,\n",
      "when strong agress have smunn'd, as thou,\n",
      "and gentle to winds a scene riser sound,\n",
      "and hail'd him and leaf him sleepings alone,\n",
      "and was the woe to seek by spanish roach's rate\n",
      "by him stare not both the clumb wand from a bird;\n",
      "don juan's dyeth intresses past,\n",
      "and they made him last mercyber known\n",
      "such as from the nore they had died enough\n",
      "that glanced where he must raise, and allure his hoary bore\n",
      "judged he gleam'd he for the bird of his ranson!\n",
      "trying seat was everybody boughabban;\n",
      "oh\n"
     ]
    }
   ],
   "source": [
    "idx = torch.zeros((1,1), dtype=torch.long, device=device)\n",
    "print(decode(model.generate(idx, 1000)[0].tolist()))"
   ]
  },
  {
   "cell_type": "code",
   "execution_count": null,
   "metadata": {},
   "outputs": [],
   "source": []
  }
 ],
 "metadata": {
  "language_info": {
   "name": "python"
  }
 },
 "nbformat": 4,
 "nbformat_minor": 2
}

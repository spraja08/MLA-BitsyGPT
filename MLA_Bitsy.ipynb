{
 "cells": [
  {
   "cell_type": "code",
   "execution_count": 1,
   "metadata": {},
   "outputs": [],
   "source": [
    "import torch\n",
    "import torch.nn as nn\n",
    "import torch.nn.functional as F"
   ]
  },
  {
   "cell_type": "code",
   "execution_count": 2,
   "metadata": {},
   "outputs": [
    {
     "data": {
      "text/plain": [
       "2238662"
      ]
     },
     "execution_count": 2,
     "metadata": {},
     "output_type": "execute_result"
    }
   ],
   "source": [
    "with open(\"./data/byron.txt\", \"r\", encoding='utf-8') as f:\n",
    "    text = f.read()\n",
    "len(text)"
   ]
  },
  {
   "cell_type": "code",
   "execution_count": 3,
   "metadata": {},
   "outputs": [],
   "source": [
    "vocab = sorted(list(set(text)))\n",
    "vocab_size = len(vocab)"
   ]
  },
  {
   "cell_type": "code",
   "execution_count": 4,
   "metadata": {},
   "outputs": [
    {
     "data": {
      "text/plain": [
       "'4O ZNKXK !'"
      ]
     },
     "execution_count": 4,
     "metadata": {},
     "output_type": "execute_result"
    }
   ],
   "source": [
    "stoi = {ch:i for i,ch in enumerate(vocab)}\n",
    "itos = {i:ch for i,ch in enumerate(vocab)}\n",
    "encode = lambda s: [stoi[ch] for ch in s]\n",
    "decode = lambda l: \"\".join([itos[i] for i in l])\n",
    "encode('Hi there !')\n",
    "decode([20, 47, 1, 58, 46, 43, 56, 43, 1, 2])"
   ]
  },
  {
   "cell_type": "code",
   "execution_count": 5,
   "metadata": {},
   "outputs": [
    {
     "data": {
      "text/plain": [
       "True"
      ]
     },
     "execution_count": 5,
     "metadata": {},
     "output_type": "execute_result"
    }
   ],
   "source": [
    "data = torch.tensor(encode(text), dtype=torch.long)\n",
    "n = (int)(len(data) * 0.9)\n",
    "data_train = data[:n]\n",
    "data_val = data[n:]\n",
    "len(data) == len(data_train) + len(data_val)"
   ]
  },
  {
   "cell_type": "code",
   "execution_count": 6,
   "metadata": {},
   "outputs": [],
   "source": [
    "#block_size = 8\n",
    "#batch_size = 4\n",
    "#max_iterations = 3000\n",
    "#eval_interval = 300\n",
    "#eval_iterations = 200\n",
    "#learning_rate = 1e-2\n",
    "#device = 'cuda' if torch.cuda.is_available() else 'cpu'\n",
    "#n_embed = 32\n",
    "#head_size = 32\n",
    "#num_heads = 4\n",
    "#n_layers = 4\n",
    "#dropout = 0.2\n",
    "\n",
    "device = 'cuda' if torch.cuda.is_available() else 'cpu'\n",
    "block_size = 256\n",
    "batch_size = 64\n",
    "max_iterations = 5000\n",
    "eval_iterations = 200\n",
    "eval_interval = 500\n",
    "learning_rate = 3e-4\n",
    "n_embed = 384\n",
    "num_heads = 6\n",
    "n_layers = 6\n",
    "dropout = 0.2"
   ]
  },
  {
   "cell_type": "code",
   "execution_count": 7,
   "metadata": {},
   "outputs": [
    {
     "data": {
      "text/plain": [
       "'cuda'"
      ]
     },
     "execution_count": 7,
     "metadata": {},
     "output_type": "execute_result"
    }
   ],
   "source": [
    "device"
   ]
  },
  {
   "cell_type": "code",
   "execution_count": 8,
   "metadata": {},
   "outputs": [],
   "source": [
    "def get_batch(split):\n",
    "    data = data_train if split == 'train' else data_val\n",
    "    ix = torch.randint(len(data) - block_size, [batch_size,])\n",
    "    xb = torch.stack([data[i:i+block_size] for i in ix])\n",
    "    yb = torch.stack([data[i+1:i+block_size+1] for i in ix])\n",
    "    x, y = xb.to(device), yb.to(device)\n",
    "    return x,y\n",
    "    "
   ]
  },
  {
   "cell_type": "code",
   "execution_count": 9,
   "metadata": {},
   "outputs": [],
   "source": [
    "x, y = get_batch('train')"
   ]
  },
  {
   "cell_type": "code",
   "execution_count": 10,
   "metadata": {},
   "outputs": [
    {
     "name": "stdout",
     "output_type": "stream",
     "text": [
      "tensor([[ 3,  1,  1,  ...,  1, 82, 71],\n",
      "        [68, 81, 72,  ..., 78,  1, 75],\n",
      "        [60, 81,  3,  ...,  1, 83, 78],\n",
      "        ...,\n",
      "        [68,  1, 64,  ..., 78, 84, 82],\n",
      "        [81,  1, 68,  ..., 83, 86, 72],\n",
      "        [82,  1, 70,  ...,  1, 80, 84]], device='cuda:0')\n",
      "tensor([[ 1,  1,  1,  ..., 82, 71, 81],\n",
      "        [81, 72, 83,  ...,  1, 75, 64],\n",
      "        [81,  3, 12,  ..., 83, 78,  1],\n",
      "        ...,\n",
      "        [ 1, 64, 81,  ..., 84, 82,  1],\n",
      "        [ 1, 68, 64,  ..., 86, 72, 77],\n",
      "        [ 1, 70, 64,  ..., 80, 84, 72]], device='cuda:0')\n"
     ]
    }
   ],
   "source": [
    "print(x)\n",
    "print(y)"
   ]
  },
  {
   "cell_type": "code",
   "execution_count": 11,
   "metadata": {},
   "outputs": [],
   "source": [
    "class SingleHeadAttention(nn.Module):\n",
    "    def __init__(self, head_size, latent_head_size):\n",
    "        super().__init__()\n",
    "        self.key_latent = nn.Linear(n_embed, latent_head_size, bias=False)\n",
    "        self.key = nn.Linear(latent_head_size, head_size, bias=False)\n",
    "        \n",
    "        self.value_latent = nn.Linear(n_embed, latent_head_size, bias=False)\n",
    "        self.value = nn.Linear(latent_head_size, head_size, bias=False)\n",
    "\n",
    "        self.query = nn.Linear(n_embed, head_size, bias=False)\n",
    "        self.register_buffer('tril', torch.tril(torch.ones(block_size, block_size)))\n",
    "        self.dropout = nn.Dropout(dropout)\n",
    "        \n",
    "    def forward(self, x): #BTE\n",
    "        B,T,E = x.shape\n",
    "\n",
    "        k_latent = self.key_latent(x) #BTE @ EL -> BTL\n",
    "        v_latent = self.value_latent(x) #BTE @ EL -> BTL\n",
    "\n",
    "        k = self.key(k_latent) #BTL @ LH -> BTH\n",
    "        v = self.value(v_latent) #BTL @ LH -> BTH\n",
    "\n",
    "        q = self.query(x) #BTH\n",
    "            \n",
    "        wei = k @ q.transpose(-2, -1) * E ** -0.5 #BTH @ BHT -> BTT\n",
    "        wei = wei.masked_fill(self.tril[:T, :T] == 0, float('-inf'))\n",
    "        wei = wei.softmax(dim=-1)\n",
    "        wei = self.dropout(wei)\n",
    "            \n",
    "        out = wei @ v # BTT @ BTH -> BTH\n",
    "        return out    "
   ]
  },
  {
   "cell_type": "code",
   "execution_count": 12,
   "metadata": {},
   "outputs": [],
   "source": [
    "class MultiheadLatentAttention(nn.Module):\n",
    "    def __init__(self, num_heads):\n",
    "        super().__init__()\n",
    "        dim_head = n_embed // num_heads\n",
    "        dim_latent_head = dim_head // 2\n",
    "        self.multiheads  = nn.ModuleList([SingleHeadAttention(dim_head, dim_latent_head) \n",
    "                                          for _ in range(num_heads)])\n",
    "        self.proj = nn.Linear(n_embed, n_embed)\n",
    "        self.dropout = nn.Dropout(dropout)\n",
    "        \n",
    "    def forward(self, x):\n",
    "        out = torch.cat([h(x) for h in self.multiheads], dim=-1)  \n",
    "        out = self.dropout(self.proj(out))\n",
    "        return out"
   ]
  },
  {
   "cell_type": "code",
   "execution_count": 13,
   "metadata": {},
   "outputs": [],
   "source": [
    "class Feedforward(nn.Module):\n",
    "    def __init__(self):\n",
    "        super().__init__()\n",
    "        self.ffwd = nn.Sequential( \n",
    "            nn.Linear(n_embed, 4 * n_embed),\n",
    "            nn.ReLU(),\n",
    "            nn.Linear(4 * n_embed, n_embed),\n",
    "            nn.Dropout(dropout))\n",
    "        \n",
    "    def forward(self, x):\n",
    "        out = self.ffwd(x)\n",
    "        return out"
   ]
  },
  {
   "cell_type": "code",
   "execution_count": 14,
   "metadata": {},
   "outputs": [],
   "source": [
    "class Block(nn.Module):\n",
    "    def __init__(self, num_heads):\n",
    "        super().__init__()\n",
    "        self.multiheads = MultiheadLatentAttention(num_heads)\n",
    "        self.ffwd = Feedforward()\n",
    "        self.ln1 = nn.LayerNorm(n_embed)\n",
    "        self.ln2 = nn.LayerNorm(n_embed)\n",
    "        \n",
    "    def forward(self, x):\n",
    "        x = x + self.multiheads(self.ln1(x))\n",
    "        x = x + self.ffwd(self.ln2(x))\n",
    "        return x"
   ]
  },
  {
   "cell_type": "code",
   "execution_count": 15,
   "metadata": {},
   "outputs": [],
   "source": [
    "class MLA_Bitsy(nn.Module):\n",
    "    def __init__(self):\n",
    "        super().__init__()\n",
    "        self.tok_embedding_table = nn.Embedding(vocab_size, n_embed)\n",
    "        self.pos_embedding_table = nn.Embedding(block_size, n_embed)\n",
    "        self.layers = nn.Sequential(*[Block(num_heads) for _ in range(n_layers)])\n",
    "        self.ln = nn.LayerNorm(n_embed)\n",
    "        self.lm_head = nn.Linear(n_embed, vocab_size)\n",
    "        \n",
    "    def forward(self, idx, targets=None):\n",
    "        B,T = idx.shape\n",
    "        tok_embed = self.tok_embedding_table(idx) #BTE\n",
    "        pos_embed = self.pos_embedding_table(torch.arange(T, device=device))\n",
    "        x = tok_embed + pos_embed\n",
    "        x = self.layers(x)\n",
    "        x = self.ln(x)\n",
    "        logits = self.lm_head(x) #BTE @ EV -> BTV\n",
    "        \n",
    "        if targets == None:\n",
    "            loss = None\n",
    "        else:\n",
    "            B,T,C = logits.shape\n",
    "            logits = logits.view(B*T, C)\n",
    "            targets = targets.view(B*T)\n",
    "            loss = F.cross_entropy(logits, targets)\n",
    "        return logits, loss\n",
    "    \n",
    "    @torch.no_grad()\n",
    "    def estiamte_loss(self):\n",
    "        out = {}\n",
    "        self.eval()\n",
    "        for split in ['train', 'val']:\n",
    "            losses = torch.zeros(eval_iterations)\n",
    "            for k in range(eval_iterations):\n",
    "                x, y = get_batch(split)\n",
    "                logits, loss = self(x, y)\n",
    "                losses[k] = loss.item()\n",
    "            out[split] = losses.mean()\n",
    "        self.train()\n",
    "        return out        \n",
    "    \n",
    "    @torch.no_grad()\n",
    "    def generate(self, idx, max_tokens=300):\n",
    "        for _ in range(max_tokens):\n",
    "            idx_cond = idx[:, -block_size:]\n",
    "            logits, losss = self(idx_cond)\n",
    "            logits = logits[:, -1, :]\n",
    "            probs = F.softmax(logits, dim=-1)\n",
    "            idx_next = torch.multinomial(probs, num_samples=1)\n",
    "            idx = torch.cat([idx, idx_next], dim=-1)\n",
    "        return idx\n",
    "    \n",
    "    def get_num_params(self):\n",
    "        return sum(p.numel() for p in self.parameters() if p.requires_grad)\n",
    "\n",
    "    def persistModel(self):\n",
    "        path = 'model/mla-bitsy'\n",
    "        torch.save(self.state_dict(), path)\n",
    "        return path\n",
    "    \n",
    "    def loadModel(self):\n",
    "        path = 'model/mla-bitsy'\n",
    "        self.load_state_dict(torch.load(path, map_location='cuda'))"
   ]
  },
  {
   "cell_type": "code",
   "execution_count": null,
   "metadata": {},
   "outputs": [],
   "source": [
    "torch.manual_seed(1337)\n",
    "m = MLA_Bitsy()\n",
    "model = m.to(device)\n",
    "optimizer = torch.optim.AdamW(model.parameters(), lr=learning_rate)\n",
    "for k in range(max_iterations):\n",
    "    if k % eval_interval == 0:\n",
    "        out = model.estiamte_loss()\n",
    "        print(f\"iter: {k}, train_loss: {out['train']:.4f}, val_loss: {out['val']:.4f}\")\n",
    "    x, y = get_batch('train')\n",
    "    logits, loss = model(x, y)\n",
    "    optimizer.zero_grad(set_to_none=True)\n",
    "    loss.backward()\n",
    "    optimizer.step()\n",
    "print(f\"iter: {k}, train_loss: {out['train']:.4f}, val_loss: {out['val']:.4f}\")\n",
    "\n",
    "model.persistModel()"
   ]
  },
  {
   "cell_type": "code",
   "execution_count": null,
   "metadata": {},
   "outputs": [],
   "source": [
    "idx = torch.zeros((1,1), dtype=torch.long, device=device)\n",
    "print(decode(model.generate(idx, 500)[0].tolist()))"
   ]
  },
  {
   "cell_type": "code",
   "execution_count": 70,
   "metadata": {},
   "outputs": [
    {
     "data": {
      "text/plain": [
       "tensor([[1., 0., 0., 0., 0., 0., 0., 0.],\n",
       "        [1., 1., 0., 0., 0., 0., 0., 0.],\n",
       "        [1., 1., 1., 0., 0., 0., 0., 0.],\n",
       "        [1., 1., 1., 1., 0., 0., 0., 0.],\n",
       "        [1., 1., 1., 1., 1., 0., 0., 0.],\n",
       "        [1., 1., 1., 1., 1., 1., 0., 0.],\n",
       "        [1., 1., 1., 1., 1., 1., 1., 0.],\n",
       "        [1., 1., 1., 1., 1., 1., 1., 1.]])"
      ]
     },
     "execution_count": 70,
     "metadata": {},
     "output_type": "execute_result"
    }
   ],
   "source": [
    "torch.tril(torch.ones(block_size, block_size))"
   ]
  },
  {
   "cell_type": "code",
   "execution_count": 91,
   "metadata": {},
   "outputs": [
    {
     "name": "stdout",
     "output_type": "stream",
     "text": [
      "key -> tensor([[0, 1, 2, 1],\n",
      "        [2, 0, 0, 1],\n",
      "        [2, 2, 0, 2],\n",
      "        [1, 2, 0, 0]])\n",
      "query -> tensor([[0, 0, 0, 0],\n",
      "        [0, 2, 0, 1],\n",
      "        [0, 0, 0, 2],\n",
      "        [0, 0, 2, 1]])\n",
      "x -> tensor([[[2, 1, 2, 1],\n",
      "         [2, 2, 1, 0],\n",
      "         [2, 1, 0, 2],\n",
      "         [0, 1, 1, 1]]])\n",
      "k -> tensor([[[7, 8, 4, 7],\n",
      "         [6, 4, 4, 6],\n",
      "         [4, 6, 4, 3],\n",
      "         [5, 4, 0, 3]]])\n",
      "q -> tensor([[[0, 2, 2, 6],\n",
      "         [0, 4, 0, 4],\n",
      "         [0, 2, 4, 3],\n",
      "         [0, 2, 2, 4]]])\n",
      "wei -> tensor([[[66, 60, 53, 52],\n",
      "         [52, 40, 42, 40],\n",
      "         [38, 36, 37, 32],\n",
      "         [26, 28, 17, 20]]])\n",
      "tensor([[[    66, 100000, 100000, 100000],\n",
      "         [    52,     40, 100000, 100000],\n",
      "         [    38,     36,     37, 100000],\n",
      "         [    26,     28,     17,     20]]])\n"
     ]
    }
   ],
   "source": [
    "B,T,E = 1, 4, 4\n",
    "H = 4\n",
    "key = torch.randint(0, 3, (E, H))\n",
    "query = torch.randint(0, 3, (E,H))\n",
    "value = torch.randint(0, 3, (E,H))\n",
    "\n",
    "print(f\"key -> {key}\")\n",
    "print(f\"query -> {query}\")\n",
    "\n",
    "x = torch.randint(0, 3, (B,T,E))\n",
    "print(f\"x -> {x}\")\n",
    "k = x @ key #BTE @ EH -> BTH\n",
    "print(f\"k -> {k}\")\n",
    "q = x @ query\n",
    "v = x @ value\n",
    "print(f\"q -> {q}\")\n",
    "\n",
    "wei = k @ q.transpose(-2, -1) #BTH @ BHT -> BTT\n",
    "print(f\"wei -> {wei}\")\n",
    "\n",
    "tril = torch.tril(torch.ones(T,T))\n",
    "wei = wei.masked_fill(tril==0, 100000)\n",
    "print(wei)"
   ]
  },
  {
   "cell_type": "code",
   "execution_count": null,
   "metadata": {},
   "outputs": [],
   "source": []
  }
 ],
 "metadata": {
  "language_info": {
   "name": "python"
  }
 },
 "nbformat": 4,
 "nbformat_minor": 2
}
